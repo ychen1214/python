{
 "cells": [
  {
   "cell_type": "code",
   "execution_count": 18,
   "source": [
    "\r\n",
    "import pyspark\r\n",
    "from pyspark.sql import SparkSession\r\n",
    "from pyspark.sql.types import StructType\r\n",
    "from pyspark.sql.types import StringType\r\n",
    "\r\n",
    "spark = SparkSession.builder.getOrCreate()"
   ],
   "outputs": [],
   "metadata": {}
  },
  {
   "cell_type": "code",
   "execution_count": 21,
   "source": [
    "schema = StructType() \\\r\n",
    "    .add(\"url\",StringType(),True) \\\r\n",
    "    .add(\"url2\",StringType(),True) \\\r\n",
    "    .add(\"title\",StringType(),True) \\\r\n",
    "    .add(\"price\",StringType(),True) \\\r\n",
    "    .add(\"stockmsg\",StringType(),True)\r\n",
    "df_with_schema = spark.read.format(\"csv\") \\\r\n",
    "    .option(\"header\",True) \\\r\n",
    "    .schema(schema) \\\r\n",
    "    .load(\"D:\\\\python\\\\allBooks.csv\")\r\n",
    "df_with_schema.printSchema\r\n",
    "df_with_schema.show()    \r\n",
    "  "
   ],
   "outputs": [
    {
     "output_type": "stream",
     "name": "stdout",
     "text": [
      "+--------------------+--------------------+--------------------+-----+--------+\n",
      "|                 url|                url2|               title|price|stockmsg|\n",
      "+--------------------+--------------------+--------------------+-----+--------+\n",
      "|http://books.tosc...|http://books.tosc...|A Light in the Attic|Three|   51.77|\n",
      "|http://books.tosc...|http://books.tosc...|  Tipping the Velvet|  One|   53.74|\n",
      "|http://books.tosc...|http://books.tosc...|          Soumission|  One|   50.10|\n",
      "|http://books.tosc...|http://books.tosc...|       Sharp Objects| Four|   47.82|\n",
      "|http://books.tosc...|http://books.tosc...|1,000 Places to S...| Five|   26.08|\n",
      "+--------------------+--------------------+--------------------+-----+--------+\n",
      "\n"
     ]
    }
   ],
   "metadata": {}
  },
  {
   "cell_type": "code",
   "execution_count": null,
   "source": [],
   "outputs": [],
   "metadata": {}
  },
  {
   "cell_type": "code",
   "execution_count": null,
   "source": [],
   "outputs": [],
   "metadata": {}
  }
 ],
 "metadata": {
  "orig_nbformat": 4,
  "language_info": {
   "name": "python",
   "version": "3.10.0",
   "mimetype": "text/x-python",
   "codemirror_mode": {
    "name": "ipython",
    "version": 3
   },
   "pygments_lexer": "ipython3",
   "nbconvert_exporter": "python",
   "file_extension": ".py"
  },
  "kernelspec": {
   "name": "python3",
   "display_name": "Python 3.10.0 64-bit"
  },
  "interpreter": {
   "hash": "c0ca17762eeb1afc829a03663c055928605f8711ec33914962cedaa12595a141"
  }
 },
 "nbformat": 4,
 "nbformat_minor": 2
}